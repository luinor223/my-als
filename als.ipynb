{
 "cells": [
  {
   "cell_type": "markdown",
   "metadata": {},
   "source": [
    "# Implementing Alternating Least Squares using NumPy"
   ]
  },
  {
   "cell_type": "code",
   "execution_count": 2,
   "metadata": {},
   "outputs": [],
   "source": [
    "import numpy as np\n",
    "import pandas as pd\n",
    "import matplotlib.pyplot as plt\n",
    "import seaborn as sns\n",
    "from scipy.sparse import csr_matrix\n",
    "plt.style.use('ggplot')\n",
    "\n",
    "%matplotlib inline"
   ]
  },
  {
   "cell_type": "code",
   "execution_count": 3,
   "metadata": {},
   "outputs": [],
   "source": [
    "class ALSRecommender:\n",
    "    def __init__(self, n_factors: int = 10, n_iterations: int = 20, reg_param: float = 0.1):\n",
    "        \"\"\"\n",
    "        Initializes the ALSRecommender.\n",
    "        \n",
    "        Parameters:\n",
    "        - n_factors (int): Number of latent features.\n",
    "        - n_iterations (int): Number of iterations to perform.\n",
    "        - reg_param (float): Regularization parameter for ALS.\n",
    "        \"\"\"\n",
    "        self.n_factors = n_factors\n",
    "        self.n_iterations = n_iterations\n",
    "        self.reg_param = reg_param\n",
    "        self.rating_matrix = None\n",
    "        self.user_factors = None\n",
    "        self.item_factors = None\n",
    "        self.n_users = None\n",
    "        self.n_items = None\n",
    "\n",
    "    def fit(self, ratings: np.ndarray) -> None:\n",
    "        \"\"\"\n",
    "        Trains the ALS model using the given user-item rating matrix.\n",
    "        \n",
    "        Parameters:\n",
    "        - ratings (np.ndarray): User-item rating matrix with shape (n_users, n_items).\n",
    "        \"\"\" \n",
    "        self.rating_matrix = ratings\n",
    "        self.n_users, self.n_items = ratings.shape\n",
    "        self.user_factors = np.random.rand(self.n_users, self.n_factors)\n",
    "        self.item_factors = np.random.rand(self.n_items, self.n_factors)\n",
    "        \n",
    "        for _ in range(self.n_iterations):\n",
    "            self.update_users()\n",
    "            self.update_items()\n",
    "    \n",
    "    def update_items(self) -> np.ndarray:\n",
    "        \"\"\"\n",
    "        Updates items factors matrix.\n",
    "           \n",
    "        Returns:\n",
    "        - np.ndarray: Updated user factors matrix.\n",
    "        \"\"\"\n",
    "        for i in range(len(self.item_factors)):\n",
    "            rateds = self.rating_matrix[:, i] != 0\n",
    "            rated_indices = np.where(rateds)[0]\n",
    "            rated_vectors = self.user_factors[rateds]\n",
    "\n",
    "            reshaped_vectors = rated_vectors.reshape(-1, self.n_factors, 1)\n",
    "            ratings_i = self.rating_matrix[rated_indices, i].reshape(-1, 1, 1)\n",
    "\n",
    "            A = np.sum(reshaped_vectors @ reshaped_vectors.transpose(0, 2, 1), axis=0)\n",
    "            b = np.sum(reshaped_vectors * ratings_i, axis=0)\n",
    "\n",
    "            A += np.eye(self.n_factors) * self.reg_param\n",
    "            A_inv = np.linalg.inv(A)\n",
    "\n",
    "            self.item_factors[i] = (A_inv @ b).flatten()\n",
    "\n",
    "        return self.item_factors\n",
    "    \n",
    "    def update_users(self) -> np.ndarray:\n",
    "        \"\"\"\n",
    "        Updates user factors matrix.\n",
    "        \n",
    "        Returns:\n",
    "        - np.ndarray: Updated user factors matrix.\n",
    "        \"\"\"\n",
    "        for i in range(len(self.user_factors)):\n",
    "            rateds = self.rating_matrix[i] != 0\n",
    "            rated_indices = np.where(rateds)[0]\n",
    "            rated_vectors = self.item_factors[rateds]\n",
    "\n",
    "            reshaped_vectors = rated_vectors.reshape(-1, self.n_factors, 1)\n",
    "            \n",
    "            ratings_i = self.rating_matrix[i, rated_indices].reshape(-1, 1, 1)\n",
    "\n",
    "            A = np.sum(reshaped_vectors @ reshaped_vectors.transpose(0, 2, 1), axis=0)\n",
    "            b = np.sum(reshaped_vectors * ratings_i, axis=0)\n",
    "\n",
    "            A += np.eye(self.n_factors) * self.reg_param\n",
    "            A_inv = np.linalg.inv(A)\n",
    "\n",
    "            self.user_factors[i] = (A_inv @ b).flatten()\n",
    "\n",
    "        return self.user_factors\n",
    "\n",
    "    def predict(self) -> np.ndarray:\n",
    "        \"\"\"\n",
    "        Generates the predicted rating matrix.\n",
    "        \n",
    "        Returns:\n",
    "        - np.ndarray: Predicted user-item rating matrix.\n",
    "        \"\"\"\n",
    "        return self.user_factors @ self.item_factors.T\n",
    "        \n",
    "    def evaluate(self, test_ratings: np.ndarray) -> float:\n",
    "        \"\"\"\n",
    "        Evaluates the model on test data using RMSE.\n",
    "        \n",
    "        Parameters:\n",
    "        - test_ratings (np.ndarray): User-item rating matrix for testing.\n",
    "        \n",
    "        Returns:\n",
    "        - float: Root Mean Square Error (RMSE).\n",
    "        \"\"\"\n",
    "        predictions = self.predict()\n",
    "        errors = predictions - test_ratings\n",
    "        return np.sqrt(np.mean(errors**2))\n"
   ]
  },
  {
   "cell_type": "markdown",
   "metadata": {},
   "source": [
    "# Apply the model to book ratings dataset"
   ]
  },
  {
   "cell_type": "markdown",
   "metadata": {},
   "source": [
    "## 1. Load Data"
   ]
  },
  {
   "cell_type": "code",
   "execution_count": 4,
   "metadata": {},
   "outputs": [],
   "source": [
    "books_filename = 'books.csv'\n",
    "ratings_filename = 'ratings.csv'\n",
    "\n",
    "df_books = pd.read_csv(\n",
    "    books_filename, \n",
    "    encoding = \"ISO-8859-1\", \n",
    "    usecols=['isbn', 'title'], \n",
    "    dtype={'isbn': 'string', 'title': 'str'})\n",
    "\n",
    "df_ratings = pd.read_csv(\n",
    "    ratings_filename, \n",
    "    encoding = \"ISO-8859-1\", \n",
    "    usecols=['userId', 'isbn', 'rating'],\n",
    "    dtype={'userId': 'int32', 'isbn': 'string', 'rating': 'int32'})"
   ]
  },
  {
   "cell_type": "code",
   "execution_count": 5,
   "metadata": {},
   "outputs": [],
   "source": [
    "# Filter out ratings for books not in the books dataset\n",
    "df_ratings = df_ratings[df_ratings.isbn.isin(df_books.isbn)]"
   ]
  },
  {
   "cell_type": "code",
   "execution_count": 6,
   "metadata": {},
   "outputs": [
    {
     "data": {
      "text/html": [
       "<div>\n",
       "<style scoped>\n",
       "    .dataframe tbody tr th:only-of-type {\n",
       "        vertical-align: middle;\n",
       "    }\n",
       "\n",
       "    .dataframe tbody tr th {\n",
       "        vertical-align: top;\n",
       "    }\n",
       "\n",
       "    .dataframe thead th {\n",
       "        text-align: right;\n",
       "    }\n",
       "</style>\n",
       "<table border=\"1\" class=\"dataframe\">\n",
       "  <thead>\n",
       "    <tr style=\"text-align: right;\">\n",
       "      <th></th>\n",
       "      <th>isbn</th>\n",
       "      <th>title</th>\n",
       "    </tr>\n",
       "  </thead>\n",
       "  <tbody>\n",
       "    <tr>\n",
       "      <th>0</th>\n",
       "      <td>0195153448</td>\n",
       "      <td>Classical Mythology</td>\n",
       "    </tr>\n",
       "    <tr>\n",
       "      <th>1</th>\n",
       "      <td>0002005018</td>\n",
       "      <td>Clara Callan</td>\n",
       "    </tr>\n",
       "    <tr>\n",
       "      <th>2</th>\n",
       "      <td>0060973129</td>\n",
       "      <td>Decision in Normandy</td>\n",
       "    </tr>\n",
       "    <tr>\n",
       "      <th>3</th>\n",
       "      <td>0374157065</td>\n",
       "      <td>Flu: The Story of the Great Influenza Pandemic...</td>\n",
       "    </tr>\n",
       "    <tr>\n",
       "      <th>4</th>\n",
       "      <td>0393045218</td>\n",
       "      <td>The Mummies of Urumchi</td>\n",
       "    </tr>\n",
       "  </tbody>\n",
       "</table>\n",
       "</div>"
      ],
      "text/plain": [
       "         isbn                                              title\n",
       "0  0195153448                                Classical Mythology\n",
       "1  0002005018                                       Clara Callan\n",
       "2  0060973129                               Decision in Normandy\n",
       "3  0374157065  Flu: The Story of the Great Influenza Pandemic...\n",
       "4  0393045218                             The Mummies of Urumchi"
      ]
     },
     "execution_count": 6,
     "metadata": {},
     "output_type": "execute_result"
    }
   ],
   "source": [
    "df_books.head()"
   ]
  },
  {
   "cell_type": "code",
   "execution_count": 7,
   "metadata": {},
   "outputs": [
    {
     "data": {
      "text/html": [
       "<div>\n",
       "<style scoped>\n",
       "    .dataframe tbody tr th:only-of-type {\n",
       "        vertical-align: middle;\n",
       "    }\n",
       "\n",
       "    .dataframe tbody tr th {\n",
       "        vertical-align: top;\n",
       "    }\n",
       "\n",
       "    .dataframe thead th {\n",
       "        text-align: right;\n",
       "    }\n",
       "</style>\n",
       "<table border=\"1\" class=\"dataframe\">\n",
       "  <thead>\n",
       "    <tr style=\"text-align: right;\">\n",
       "      <th></th>\n",
       "      <th>userId</th>\n",
       "      <th>isbn</th>\n",
       "      <th>rating</th>\n",
       "    </tr>\n",
       "  </thead>\n",
       "  <tbody>\n",
       "    <tr>\n",
       "      <th>0</th>\n",
       "      <td>276725</td>\n",
       "      <td>034545104X</td>\n",
       "      <td>0</td>\n",
       "    </tr>\n",
       "    <tr>\n",
       "      <th>1</th>\n",
       "      <td>276726</td>\n",
       "      <td>0155061224</td>\n",
       "      <td>5</td>\n",
       "    </tr>\n",
       "    <tr>\n",
       "      <th>2</th>\n",
       "      <td>276727</td>\n",
       "      <td>0446520802</td>\n",
       "      <td>0</td>\n",
       "    </tr>\n",
       "    <tr>\n",
       "      <th>3</th>\n",
       "      <td>276729</td>\n",
       "      <td>052165615X</td>\n",
       "      <td>3</td>\n",
       "    </tr>\n",
       "    <tr>\n",
       "      <th>4</th>\n",
       "      <td>276729</td>\n",
       "      <td>0521795028</td>\n",
       "      <td>6</td>\n",
       "    </tr>\n",
       "  </tbody>\n",
       "</table>\n",
       "</div>"
      ],
      "text/plain": [
       "   userId        isbn  rating\n",
       "0  276725  034545104X       0\n",
       "1  276726  0155061224       5\n",
       "2  276727  0446520802       0\n",
       "3  276729  052165615X       3\n",
       "4  276729  0521795028       6"
      ]
     },
     "execution_count": 7,
     "metadata": {},
     "output_type": "execute_result"
    }
   ],
   "source": [
    "df_ratings.head()"
   ]
  },
  {
   "cell_type": "code",
   "execution_count": 8,
   "metadata": {},
   "outputs": [
    {
     "name": "stdout",
     "output_type": "stream",
     "text": [
      "There are 270170 unique books and 92107 unique users\n"
     ]
    }
   ],
   "source": [
    "num_books = len(df_ratings.isbn.unique())\n",
    "num_users = len(df_ratings.userId.unique())\n",
    "print('There are {} unique books and {} unique users'.format(num_books, num_users))"
   ]
  },
  {
   "cell_type": "markdown",
   "metadata": {},
   "source": [
    "## 2. Exploratory Data Analysis"
   ]
  },
  {
   "cell_type": "markdown",
   "metadata": {},
   "source": [
    "### 2.1 Plot the count of each rating"
   ]
  },
  {
   "cell_type": "code",
   "execution_count": 9,
   "metadata": {},
   "outputs": [
    {
     "data": {
      "text/html": [
       "<div>\n",
       "<style scoped>\n",
       "    .dataframe tbody tr th:only-of-type {\n",
       "        vertical-align: middle;\n",
       "    }\n",
       "\n",
       "    .dataframe tbody tr th {\n",
       "        vertical-align: top;\n",
       "    }\n",
       "\n",
       "    .dataframe thead th {\n",
       "        text-align: right;\n",
       "    }\n",
       "</style>\n",
       "<table border=\"1\" class=\"dataframe\">\n",
       "  <thead>\n",
       "    <tr style=\"text-align: right;\">\n",
       "      <th></th>\n",
       "      <th>count</th>\n",
       "    </tr>\n",
       "    <tr>\n",
       "      <th>rating</th>\n",
       "      <th></th>\n",
       "    </tr>\n",
       "  </thead>\n",
       "  <tbody>\n",
       "    <tr>\n",
       "      <th>0</th>\n",
       "      <td>647323</td>\n",
       "    </tr>\n",
       "    <tr>\n",
       "      <th>1</th>\n",
       "      <td>1481</td>\n",
       "    </tr>\n",
       "    <tr>\n",
       "      <th>2</th>\n",
       "      <td>2375</td>\n",
       "    </tr>\n",
       "    <tr>\n",
       "      <th>3</th>\n",
       "      <td>5118</td>\n",
       "    </tr>\n",
       "    <tr>\n",
       "      <th>4</th>\n",
       "      <td>7617</td>\n",
       "    </tr>\n",
       "    <tr>\n",
       "      <th>5</th>\n",
       "      <td>45355</td>\n",
       "    </tr>\n",
       "    <tr>\n",
       "      <th>6</th>\n",
       "      <td>31689</td>\n",
       "    </tr>\n",
       "    <tr>\n",
       "      <th>7</th>\n",
       "      <td>66404</td>\n",
       "    </tr>\n",
       "    <tr>\n",
       "      <th>8</th>\n",
       "      <td>91806</td>\n",
       "    </tr>\n",
       "    <tr>\n",
       "      <th>9</th>\n",
       "      <td>60780</td>\n",
       "    </tr>\n",
       "    <tr>\n",
       "      <th>10</th>\n",
       "      <td>71227</td>\n",
       "    </tr>\n",
       "  </tbody>\n",
       "</table>\n",
       "</div>"
      ],
      "text/plain": [
       "         count\n",
       "rating        \n",
       "0       647323\n",
       "1         1481\n",
       "2         2375\n",
       "3         5118\n",
       "4         7617\n",
       "5        45355\n",
       "6        31689\n",
       "7        66404\n",
       "8        91806\n",
       "9        60780\n",
       "10       71227"
      ]
     },
     "execution_count": 9,
     "metadata": {},
     "output_type": "execute_result"
    }
   ],
   "source": [
    "df_ratings_cnt = pd.DataFrame(df_ratings.groupby('rating').size(), columns=['count'])\n",
    "df_ratings_cnt"
   ]
  },
  {
   "cell_type": "code",
   "execution_count": 10,
   "metadata": {},
   "outputs": [
    {
     "data": {
      "image/png": "[encoded data removed]",
      "text/plain": [
       "<Figure size 640x480 with 1 Axes>"
      ]
     },
     "metadata": {},
     "output_type": "display_data"
    }
   ],
   "source": [
    "sns.countplot(x='rating', data=df_ratings)\n",
    "\n",
    "plt.xlabel('Rating')\n",
    "plt.ylabel('Count')\n",
    "plt.title('Distribution of Ratings')\n",
    "plt.show()"
   ]
  },
  {
   "cell_type": "markdown",
   "metadata": {},
   "source": [
    "Wow, there are a lot of 0 ratings here. This could be because unrated books are marked as 0. Will this affect the model? XD"
   ]
  },
  {
   "cell_type": "markdown",
   "metadata": {},
   "source": [
    "### 2.2 Plot rating frequency of all books"
   ]
  },
  {
   "cell_type": "code",
   "execution_count": 11,
   "metadata": {},
   "outputs": [
    {
     "data": {
      "text/html": [
       "<div>\n",
       "<style scoped>\n",
       "    .dataframe tbody tr th:only-of-type {\n",
       "        vertical-align: middle;\n",
       "    }\n",
       "\n",
       "    .dataframe tbody tr th {\n",
       "        vertical-align: top;\n",
       "    }\n",
       "\n",
       "    .dataframe thead th {\n",
       "        text-align: right;\n",
       "    }\n",
       "</style>\n",
       "<table border=\"1\" class=\"dataframe\">\n",
       "  <thead>\n",
       "    <tr style=\"text-align: right;\">\n",
       "      <th></th>\n",
       "      <th>count</th>\n",
       "    </tr>\n",
       "    <tr>\n",
       "      <th>isbn</th>\n",
       "      <th></th>\n",
       "    </tr>\n",
       "  </thead>\n",
       "  <tbody>\n",
       "    <tr>\n",
       "      <th>0000913154</th>\n",
       "      <td>1</td>\n",
       "    </tr>\n",
       "    <tr>\n",
       "      <th>0001010565</th>\n",
       "      <td>2</td>\n",
       "    </tr>\n",
       "    <tr>\n",
       "      <th>0001046438</th>\n",
       "      <td>1</td>\n",
       "    </tr>\n",
       "    <tr>\n",
       "      <th>0001046713</th>\n",
       "      <td>1</td>\n",
       "    </tr>\n",
       "    <tr>\n",
       "      <th>000104687X</th>\n",
       "      <td>1</td>\n",
       "    </tr>\n",
       "    <tr>\n",
       "      <th>...</th>\n",
       "      <td>...</td>\n",
       "    </tr>\n",
       "    <tr>\n",
       "      <th>B000234N76</th>\n",
       "      <td>1</td>\n",
       "    </tr>\n",
       "    <tr>\n",
       "      <th>B000234NC6</th>\n",
       "      <td>1</td>\n",
       "    </tr>\n",
       "    <tr>\n",
       "      <th>B00029DGGO</th>\n",
       "      <td>1</td>\n",
       "    </tr>\n",
       "    <tr>\n",
       "      <th>B0002JV9PY</th>\n",
       "      <td>1</td>\n",
       "    </tr>\n",
       "    <tr>\n",
       "      <th>B0002K6K8O</th>\n",
       "      <td>1</td>\n",
       "    </tr>\n",
       "  </tbody>\n",
       "</table>\n",
       "<p>270170 rows × 1 columns</p>\n",
       "</div>"
      ],
      "text/plain": [
       "            count\n",
       "isbn             \n",
       "0000913154      1\n",
       "0001010565      2\n",
       "0001046438      1\n",
       "0001046713      1\n",
       "000104687X      1\n",
       "...           ...\n",
       "B000234N76      1\n",
       "B000234NC6      1\n",
       "B00029DGGO      1\n",
       "B0002JV9PY      1\n",
       "B0002K6K8O      1\n",
       "\n",
       "[270170 rows x 1 columns]"
      ]
     },
     "execution_count": 11,
     "metadata": {},
     "output_type": "execute_result"
    }
   ],
   "source": [
    "df_books_freq = pd.DataFrame(df_ratings.groupby('isbn').size(), columns=['count'])\n",
    "df_books_freq"
   ]
  },
  {
   "cell_type": "code",
   "execution_count": 12,
   "metadata": {},
   "outputs": [
    {
     "data": {
      "text/plain": [
       "Text(0, 0.5, 'number of ratings')"
      ]
     },
     "execution_count": 12,
     "metadata": {},
     "output_type": "execute_result"
    },
    {
     "data": {
      "image/png": "[encoded data removed]",
      "text/plain": [
       "<Figure size 1200x800 with 1 Axes>"
      ]
     },
     "metadata": {},
     "output_type": "display_data"
    }
   ],
   "source": [
    "ax = df_books_freq \\\n",
    "    .sort_values('count', ascending=False) \\\n",
    "    .reset_index(drop=True) \\\n",
    "    .plot(\n",
    "        figsize=(12, 8),\n",
    "        title='Rating Frequency of All Books',\n",
    "        fontsize=12,\n",
    "        logy=True\n",
    "    )\n",
    "ax.set_xlabel(\"ISBN\")\n",
    "ax.set_ylabel(\"number of ratings\")"
   ]
  },
  {
   "cell_type": "markdown",
   "metadata": {},
   "source": [
    "Here, we encounter the Long Tail property. \"A long tail of some distributions of numbers is the portion of the distribution having many occurrences far from the \"head\" or central part of the distribution\" (Wiki). Only small fraction of books are rated frequently. Such books are refered as popular books. The vast majority of books are rated rarely. This results in a highly skewed distribution of the underlying ratings."
   ]
  },
  {
   "cell_type": "code",
   "execution_count": 13,
   "metadata": {},
   "outputs": [
    {
     "data": {
      "text/plain": [
       "1.00    2502.0\n",
       "0.95      12.0\n",
       "0.90       7.0\n",
       "0.85       5.0\n",
       "0.80       3.0\n",
       "0.75       3.0\n",
       "0.70       2.0\n",
       "0.65       2.0\n",
       "Name: count, dtype: float64"
      ]
     },
     "execution_count": 13,
     "metadata": {},
     "output_type": "execute_result"
    }
   ],
   "source": [
    "df_books_freq['count'].quantile(np.arange(1, 0.6, -0.05))"
   ]
  },
  {
   "cell_type": "markdown",
   "metadata": {},
   "source": [
    "Approximately 1% of books have around 2502 or more ratings. Additionally, 5% of books have 10 or more ratings, and 10% have 6 or more ratings. Given the large number of books, we will limit our analysis to the top 5%, which corresponds to 17,500 books."
   ]
  },
  {
   "cell_type": "code",
   "execution_count": 14,
   "metadata": {},
   "outputs": [
    {
     "name": "stdout",
     "output_type": "stream",
     "text": [
      "shape of original ratings data:  (1031175, 3)\n",
      "shape of ratings data after dropping unpopular books:  (520499, 3)\n"
     ]
    }
   ],
   "source": [
    "popularity_thres = 10\n",
    "popular_books = list(set(df_books_freq.query('count >= @popularity_thres').index))\n",
    "df_ratings_drop = df_ratings[df_ratings.isbn.isin(popular_books)]\n",
    "print('shape of original ratings data: ', df_ratings.shape)\n",
    "print('shape of ratings data after dropping unpopular books: ', df_ratings_drop.shape)"
   ]
  },
  {
   "cell_type": "markdown",
   "metadata": {},
   "source": [
    "Demn, I just dropped like 50% of the ratings from the dataset. But no worries, I am sure we still have a lot of books to play with."
   ]
  },
  {
   "cell_type": "code",
   "execution_count": 15,
   "metadata": {},
   "outputs": [
    {
     "data": {
      "text/html": [
       "<div>\n",
       "<style scoped>\n",
       "    .dataframe tbody tr th:only-of-type {\n",
       "        vertical-align: middle;\n",
       "    }\n",
       "\n",
       "    .dataframe tbody tr th {\n",
       "        vertical-align: top;\n",
       "    }\n",
       "\n",
       "    .dataframe thead th {\n",
       "        text-align: right;\n",
       "    }\n",
       "</style>\n",
       "<table border=\"1\" class=\"dataframe\">\n",
       "  <thead>\n",
       "    <tr style=\"text-align: right;\">\n",
       "      <th></th>\n",
       "      <th>count</th>\n",
       "    </tr>\n",
       "    <tr>\n",
       "      <th>userId</th>\n",
       "      <th></th>\n",
       "    </tr>\n",
       "  </thead>\n",
       "  <tbody>\n",
       "    <tr>\n",
       "      <th>2</th>\n",
       "      <td>1</td>\n",
       "    </tr>\n",
       "    <tr>\n",
       "      <th>8</th>\n",
       "      <td>17</td>\n",
       "    </tr>\n",
       "    <tr>\n",
       "      <th>9</th>\n",
       "      <td>3</td>\n",
       "    </tr>\n",
       "    <tr>\n",
       "      <th>10</th>\n",
       "      <td>1</td>\n",
       "    </tr>\n",
       "    <tr>\n",
       "      <th>12</th>\n",
       "      <td>1</td>\n",
       "    </tr>\n",
       "    <tr>\n",
       "      <th>...</th>\n",
       "      <td>...</td>\n",
       "    </tr>\n",
       "    <tr>\n",
       "      <th>278846</th>\n",
       "      <td>1</td>\n",
       "    </tr>\n",
       "    <tr>\n",
       "      <th>278849</th>\n",
       "      <td>4</td>\n",
       "    </tr>\n",
       "    <tr>\n",
       "      <th>278851</th>\n",
       "      <td>23</td>\n",
       "    </tr>\n",
       "    <tr>\n",
       "      <th>278852</th>\n",
       "      <td>1</td>\n",
       "    </tr>\n",
       "    <tr>\n",
       "      <th>278854</th>\n",
       "      <td>8</td>\n",
       "    </tr>\n",
       "  </tbody>\n",
       "</table>\n",
       "<p>92107 rows × 1 columns</p>\n",
       "</div>"
      ],
      "text/plain": [
       "        count\n",
       "userId       \n",
       "2           1\n",
       "8          17\n",
       "9           3\n",
       "10          1\n",
       "12          1\n",
       "...       ...\n",
       "278846      1\n",
       "278849      4\n",
       "278851     23\n",
       "278852      1\n",
       "278854      8\n",
       "\n",
       "[92107 rows x 1 columns]"
      ]
     },
     "execution_count": 15,
     "metadata": {},
     "output_type": "execute_result"
    }
   ],
   "source": [
    "df_users_freq = pd.DataFrame(df_ratings.groupby('userId').size(), columns=['count'])\n",
    "df_users_freq"
   ]
  },
  {
   "cell_type": "code",
   "execution_count": 16,
   "metadata": {},
   "outputs": [
    {
     "data": {
      "text/plain": [
       "Text(0, 0.5, 'number of ratings')"
      ]
     },
     "execution_count": 16,
     "metadata": {},
     "output_type": "execute_result"
    },
    {
     "data": {
      "image/png": "[encoded data removed]",
      "text/plain": [
       "<Figure size 1200x800 with 1 Axes>"
      ]
     },
     "metadata": {},
     "output_type": "display_data"
    }
   ],
   "source": [
    "ax = df_users_freq \\\n",
    "    .sort_values('count', ascending=False) \\\n",
    "    .reset_index(drop=True) \\\n",
    "    .plot(\n",
    "        figsize=(12, 8),\n",
    "        title='Rating Frequency of All Users',\n",
    "        fontsize=12,\n",
    "        logy=True\n",
    "    )\n",
    "ax.set_xlabel(\"User\")\n",
    "ax.set_ylabel(\"number of ratings\")"
   ]
  },
  {
   "cell_type": "code",
   "execution_count": 17,
   "metadata": {},
   "outputs": [
    {
     "data": {
      "text/plain": [
       "1.00    11144.0\n",
       "0.95       31.0\n",
       "0.90       13.0\n",
       "0.85        8.0\n",
       "0.80        5.0\n",
       "0.75        4.0\n",
       "0.70        3.0\n",
       "0.65        2.0\n",
       "Name: count, dtype: float64"
      ]
     },
     "execution_count": 17,
     "metadata": {},
     "output_type": "execute_result"
    }
   ],
   "source": [
    "df_users_freq['count'].quantile(np.arange(1, 0.6, -0.05))"
   ]
  },
  {
   "cell_type": "markdown",
   "metadata": {},
   "source": [
    "Voilà, we are seeing the same distribution again! Only a very small fraction of users are very actively engaged with rating books that they watched. Vast majority of users aren't interested in rating books. So we can limit users to the top ~10% (users that rated more than 10 times), which is about 10,528 users. "
   ]
  },
  {
   "cell_type": "code",
   "execution_count": 18,
   "metadata": {},
   "outputs": [
    {
     "name": "stdout",
     "output_type": "stream",
     "text": [
      "shape of original ratings data:  (1031175, 3)\n",
      "shape of ratings data after dropping both unpopular books and inactive users:  (428085, 3)\n"
     ]
    }
   ],
   "source": [
    "ratings_thres = 10\n",
    "active_users = list(set(df_users_freq.query('count >= @ratings_thres').index))\n",
    "df_ratings_drop_users = df_ratings_drop[df_ratings_drop.userId.isin(active_users)]\n",
    "print('shape of original ratings data: ', df_ratings.shape)\n",
    "print('shape of ratings data after dropping both unpopular books and inactive users: ', df_ratings_drop_users.shape)"
   ]
  },
  {
   "cell_type": "markdown",
   "metadata": {},
   "source": [
    "## 3. Train the ALS model"
   ]
  },
  {
   "cell_type": "code",
   "execution_count": 19,
   "metadata": {},
   "outputs": [
    {
     "data": {
      "text/plain": [
       "array([[5., 0., 0., ..., 0., 0., 0.],\n",
       "       [0., 0., 0., ..., 0., 0., 0.],\n",
       "       [0., 0., 0., ..., 0., 0., 0.],\n",
       "       ...,\n",
       "       [0., 0., 0., ..., 0., 0., 0.],\n",
       "       [0., 0., 0., ..., 0., 0., 0.],\n",
       "       [0., 0., 0., ..., 0., 0., 0.]])"
      ]
     },
     "execution_count": 19,
     "metadata": {},
     "output_type": "execute_result"
    }
   ],
   "source": [
    "# pivot and create movie-user matrix\n",
    "ratings_matrix = df_ratings_drop_users.pivot(index='userId', columns='isbn', values='rating').fillna(0)\n",
    "# create mapper from movie title to index\n",
    "idx_to_book = {\n",
    "    i: movie for i, movie in \n",
    "    enumerate(list(df_books.set_index('isbn').loc[ratings_matrix.columns].title))\n",
    "}\n",
    "# Convert the DataFrame to a NumPy array\n",
    "ratings_matrix_numpy = ratings_matrix.to_numpy()\n",
    "ratings_matrix_numpy"
   ]
  },
  {
   "cell_type": "code",
   "execution_count": 20,
   "metadata": {},
   "outputs": [
    {
     "data": {
      "text/plain": [
       "(11598, 17478)"
      ]
     },
     "execution_count": 20,
     "metadata": {},
     "output_type": "execute_result"
    }
   ],
   "source": [
    "ratings_matrix_numpy.shape"
   ]
  },
  {
   "cell_type": "code",
   "execution_count": 21,
   "metadata": {},
   "outputs": [],
   "source": [
    "# Initialize the ALSRecommender\n",
    "als_recommender = ALSRecommender(n_factors=10, n_iterations=20, reg_param=0.1)\n",
    "\n",
    "# Fit the model\n",
    "als_recommender.fit(ratings_matrix_numpy)\n",
    "\n",
    "# Compute the predicted ratings\n",
    "predicted_ratings = als_recommender.predict()"
   ]
  },
  {
   "cell_type": "code",
   "execution_count": 24,
   "metadata": {},
   "outputs": [],
   "source": [
    "def recommend_items(user_id, num_recommendations=5):\n",
    "    user_idx = ratings_matrix.index.get_loc(user_id)\n",
    "    user_ratings = predicted_ratings[user_idx]\n",
    "    top_items = np.argsort(user_ratings)[::-1][:num_recommendations]\n",
    "    recommended_books = [(idx_to_book[i], user_ratings[i]) for i in top_items]\n",
    "    return recommended_books"
   ]
  },
  {
   "cell_type": "code",
   "execution_count": 28,
   "metadata": {},
   "outputs": [
    {
     "name": "stdout",
     "output_type": "stream",
     "text": [
      "Recommendations for user 276847:\n",
      "1: ('Seinlanguage', 16.86705636427059)\n",
      "2: ('The Shell Seekers (Shell Seekers)', 16.308068516816423)\n",
      "3: ('Triggerfish Twist', 15.974471783380434)\n",
      "4: ('Middlemarch (Wadsworth Series in Mass Communication)', 15.661937757829968)\n",
      "5: ('Imitation in Death (Eve Dallas Mysteries (Paperback))', 15.262028836795311)\n"
     ]
    }
   ],
   "source": [
    "user_id = 276847\n",
    "recommendations = recommend_items(user_id)\n",
    "print(f\"Recommendations for user {user_id}:\")\n",
    "for i, book in enumerate(recommendations):\n",
    "    print(f\"{i + 1}: {book}\")"
   ]
  }
 ],
 "metadata": {
  "kernelspec": {
   "display_name": "Python 3",
   "language": "python",
   "name": "python3"
  },
  "language_info": {
   "codemirror_mode": {
    "name": "ipython",
    "version": 3
   },
   "file_extension": ".py",
   "mimetype": "text/x-python",
   "name": "python",
   "nbconvert_exporter": "python",
   "pygments_lexer": "ipython3",
   "version": "3.12.4"
  }
 },
 "nbformat": 4,
 "nbformat_minor": 2
}
